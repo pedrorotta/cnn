{
  "nbformat": 4,
  "nbformat_minor": 0,
  "metadata": {
    "colab": {
      "name": "Modelos_y_resultados.ipynb",
      "provenance": [],
      "mount_file_id": "1Adk_vBAAmJWqF-w_fft8d_OQHhswBPUe",
      "authorship_tag": "ABX9TyOngRpvw3AIH52BH1nUnX20",
      "include_colab_link": true
    },
    "kernelspec": {
      "name": "python3",
      "display_name": "Python 3"
    },
    "language_info": {
      "name": "python"
    }
  },
  "cells": [
    {
      "cell_type": "markdown",
      "metadata": {
        "id": "view-in-github",
        "colab_type": "text"
      },
      "source": [
        "<a href=\"https://colab.research.google.com/github/pedrorotta/cnn/blob/main/Modelos_y_resultados.ipynb\" target=\"_parent\"><img src=\"https://colab.research.google.com/assets/colab-badge.svg\" alt=\"Open In Colab\"/></a>"
      ]
    },
    {
      "cell_type": "markdown",
      "metadata": {
        "id": "qBqA17jerJvu"
      },
      "source": [
        "# Modelos de aprendizaje y Comentarios finales"
      ]
    },
    {
      "cell_type": "markdown",
      "metadata": {
        "id": "-gJWgwIzrPAz"
      },
      "source": [
        "## ¿Qué veremos hoy? \n",
        "\n",
        "* Hacks Finales sobre modelos de deep learning\n",
        "* Otros tipos de redes neuronales"
      ]
    },
    {
      "cell_type": "markdown",
      "metadata": {
        "id": "gjGewDi1rcLJ"
      },
      "source": [
        "## Hacks Finales sobre modelos de deep learning\n",
        "\n",
        "Es comun querer guardar un modelo y además reescribir un modelo que se ha guardado con anticipación.\n",
        "\n",
        "En este ejemplo veremos como guardar un modelo para entrenar "
      ]
    },
    {
      "cell_type": "code",
      "metadata": {
        "id": "K0OX8YVe_2Og"
      },
      "source": [
        "import os\n",
        "os.environ['KAGGLE_CONFIG_DIR'] = \"/content/drive/MyDrive/archivos_python\""
      ],
      "execution_count": 4,
      "outputs": []
    },
    {
      "cell_type": "code",
      "metadata": {
        "id": "391yL2-rIavz"
      },
      "source": [
        "from tensorflow.keras.models import load_model\n",
        "from tensorflow.keras.models import Model\n",
        "from tensorflow.keras import models"
      ],
      "execution_count": 5,
      "outputs": []
    },
    {
      "cell_type": "code",
      "metadata": {
        "colab": {
          "base_uri": "https://localhost:8080/"
        },
        "id": "uE4vWTfcLVu9",
        "outputId": "f73329fe-441d-4a21-b42f-33afde741f1b"
      },
      "source": [
        "!pip install h5py pyyaml"
      ],
      "execution_count": null,
      "outputs": [
        {
          "output_type": "stream",
          "text": [
            "Requirement already satisfied: h5py in /usr/local/lib/python3.7/dist-packages (3.1.0)\n",
            "Requirement already satisfied: pyyaml in /usr/local/lib/python3.7/dist-packages (3.13)\n",
            "Requirement already satisfied: numpy>=1.14.5; python_version == \"3.7\" in /usr/local/lib/python3.7/dist-packages (from h5py) (1.19.5)\n",
            "Requirement already satisfied: cached-property; python_version < \"3.8\" in /usr/local/lib/python3.7/dist-packages (from h5py) (1.5.2)\n"
          ],
          "name": "stdout"
        }
      ]
    },
    {
      "cell_type": "code",
      "metadata": {
        "id": "k-3_VOFeJGfT"
      },
      "source": [
        "from __future__ import absolute_import, division, print_function\n",
        "import os\n",
        "import tensorflow as tf\n",
        "from tensorflow import keras\n",
        "tf.__version__\n",
        "from tensorflow.keras import layers"
      ],
      "execution_count": null,
      "outputs": []
    },
    {
      "cell_type": "code",
      "metadata": {
        "id": "etkyQ66MJWWG"
      },
      "source": [
        "(train_images,train_labels), (test_images, test_labels) = tf.keras.datasets.mnist.load_data()"
      ],
      "execution_count": null,
      "outputs": []
    },
    {
      "cell_type": "code",
      "metadata": {
        "id": "mqfCHrDAMCbZ"
      },
      "source": [
        "train_labels = train_labels[0:1000]\n",
        "test_labels = test_labels[:1000]"
      ],
      "execution_count": null,
      "outputs": []
    },
    {
      "cell_type": "code",
      "metadata": {
        "id": "GAx-j9ORMUVT"
      },
      "source": [
        "train_images = train_images[:1000].reshape(-1, 28*28)/255.0\n",
        "test_images = test_images[:1000].reshape(-1, 28*28)/255.0"
      ],
      "execution_count": null,
      "outputs": []
    },
    {
      "cell_type": "code",
      "metadata": {
        "id": "RqvRqZFYMjHR"
      },
      "source": [
        "modelo1 = models.Sequential()"
      ],
      "execution_count": null,
      "outputs": []
    },
    {
      "cell_type": "code",
      "metadata": {
        "colab": {
          "base_uri": "https://localhost:8080/"
        },
        "id": "jIWu0LbXM3iZ",
        "outputId": "80288216-e549-4cd0-9ce3-5880f99c616d"
      },
      "source": [
        "modelo1.add(layers.Dense(512,activation='relu', input_shape = (784,)))\n",
        "modelo1.add(layers.Dropout(0.2))\n",
        "modelo1.add(layers.Dense(10,activation='softmax'))\n",
        "modelo1.summary()"
      ],
      "execution_count": null,
      "outputs": [
        {
          "output_type": "stream",
          "text": [
            "Model: \"sequential_1\"\n",
            "_________________________________________________________________\n",
            "Layer (type)                 Output Shape              Param #   \n",
            "=================================================================\n",
            "dense_5 (Dense)              (None, 512)               401920    \n",
            "_________________________________________________________________\n",
            "dropout_3 (Dropout)          (None, 512)               0         \n",
            "_________________________________________________________________\n",
            "dense_6 (Dense)              (None, 10)                5130      \n",
            "=================================================================\n",
            "Total params: 407,050\n",
            "Trainable params: 407,050\n",
            "Non-trainable params: 0\n",
            "_________________________________________________________________\n"
          ],
          "name": "stdout"
        }
      ]
    },
    {
      "cell_type": "code",
      "metadata": {
        "id": "K9uMu_AlNX3j"
      },
      "source": [
        "checkpoint_path = 'training_1/cp.ckpt'\n",
        "checkpoint_dir = os.path.dirname(checkpoint_path)"
      ],
      "execution_count": null,
      "outputs": []
    },
    {
      "cell_type": "code",
      "metadata": {
        "id": "QgUXmqCHW8ik"
      },
      "source": [
        "modelo1.compile(optimizer= tf.keras.optimizers.Adam(), loss = 'sparse_categorical_crossentropy', metrics= ['accuracy'])"
      ],
      "execution_count": null,
      "outputs": []
    },
    {
      "cell_type": "code",
      "metadata": {
        "colab": {
          "base_uri": "https://localhost:8080/"
        },
        "id": "ouyW8X5DWZvP",
        "outputId": "5dfa6237-14ed-440a-cc2e-ed207aa31e54"
      },
      "source": [
        "cp_callback = tf.keras.callbacks.ModelCheckpoint(checkpoint_path, save_weights_only= True, verbose = 1)\n",
        "modelo1.fit(train_images,train_labels, epochs= 10, validation_data= (test_images,test_labels), callbacks= [cp_callback])"
      ],
      "execution_count": null,
      "outputs": [
        {
          "output_type": "stream",
          "text": [
            "Epoch 1/10\n",
            "32/32 [==============================] - 1s 12ms/step - loss: 1.9546 - accuracy: 0.8520 - val_loss: 1.6619 - val_accuracy: 0.8520\n",
            "\n",
            "Epoch 00001: saving model to training_1/cp.ckpt\n",
            "Epoch 2/10\n",
            "32/32 [==============================] - 0s 8ms/step - loss: 1.0934 - accuracy: 0.9920 - val_loss: 0.9050 - val_accuracy: 0.8620\n",
            "\n",
            "Epoch 00002: saving model to training_1/cp.ckpt\n",
            "Epoch 3/10\n",
            "32/32 [==============================] - 0s 8ms/step - loss: 0.3587 - accuracy: 0.9970 - val_loss: 0.5843 - val_accuracy: 0.8600\n",
            "\n",
            "Epoch 00003: saving model to training_1/cp.ckpt\n",
            "Epoch 4/10\n",
            "32/32 [==============================] - 0s 8ms/step - loss: 0.1083 - accuracy: 0.9980 - val_loss: 0.5425 - val_accuracy: 0.8590\n",
            "\n",
            "Epoch 00004: saving model to training_1/cp.ckpt\n",
            "Epoch 5/10\n",
            "32/32 [==============================] - 0s 7ms/step - loss: 0.0491 - accuracy: 0.9990 - val_loss: 0.5162 - val_accuracy: 0.8800\n",
            "\n",
            "Epoch 00005: saving model to training_1/cp.ckpt\n",
            "Epoch 6/10\n",
            "32/32 [==============================] - 0s 7ms/step - loss: 0.0529 - accuracy: 0.9930 - val_loss: 0.6995 - val_accuracy: 0.8380\n",
            "\n",
            "Epoch 00006: saving model to training_1/cp.ckpt\n",
            "Epoch 7/10\n",
            "32/32 [==============================] - 0s 8ms/step - loss: 0.0619 - accuracy: 0.9890 - val_loss: 0.6146 - val_accuracy: 0.8550\n",
            "\n",
            "Epoch 00007: saving model to training_1/cp.ckpt\n",
            "Epoch 8/10\n",
            "32/32 [==============================] - 0s 8ms/step - loss: 0.0452 - accuracy: 0.9900 - val_loss: 0.6802 - val_accuracy: 0.8490\n",
            "\n",
            "Epoch 00008: saving model to training_1/cp.ckpt\n",
            "Epoch 9/10\n",
            "32/32 [==============================] - 0s 7ms/step - loss: 0.0469 - accuracy: 0.9910 - val_loss: 0.7310 - val_accuracy: 0.8380\n",
            "\n",
            "Epoch 00009: saving model to training_1/cp.ckpt\n",
            "Epoch 10/10\n",
            "32/32 [==============================] - 0s 8ms/step - loss: 0.0416 - accuracy: 0.9890 - val_loss: 0.6563 - val_accuracy: 0.8560\n",
            "\n",
            "Epoch 00010: saving model to training_1/cp.ckpt\n"
          ],
          "name": "stdout"
        },
        {
          "output_type": "execute_result",
          "data": {
            "text/plain": [
              "<tensorflow.python.keras.callbacks.History at 0x7fa942ceba10>"
            ]
          },
          "metadata": {
            "tags": []
          },
          "execution_count": 38
        }
      ]
    },
    {
      "cell_type": "code",
      "metadata": {
        "colab": {
          "base_uri": "https://localhost:8080/"
        },
        "id": "6yJEYMu0W2JR",
        "outputId": "92fda9ed-3a75-4f9b-b757-a04aedf5922c"
      },
      "source": [
        "!ls {checkpoint_dir}"
      ],
      "execution_count": null,
      "outputs": [
        {
          "output_type": "stream",
          "text": [
            "ls: cannot access '{checkpoint_dir}': No such file or directory\n"
          ],
          "name": "stdout"
        }
      ]
    },
    {
      "cell_type": "code",
      "metadata": {
        "colab": {
          "base_uri": "https://localhost:8080/"
        },
        "id": "3o-HH_iTYg7h",
        "outputId": "e5dc47a0-125f-4b83-dfa6-f787e76e7cc5"
      },
      "source": [
        "modelo2 = models.Sequential()\n",
        "modelo2.add(layers.Dense(512,activation='relu', input_shape = (784,)))\n",
        "modelo2.add(layers.Dropout(0.2))\n",
        "modelo2.add(layers.Dense(10,activation='softmax'))\n",
        "modelo2.summary()\n",
        "modelo2.compile(optimizer= tf.keras.optimizers.Adam(), loss = 'sparse_categorical_crossentropy', metrics= ['accuracy'])"
      ],
      "execution_count": null,
      "outputs": [
        {
          "output_type": "stream",
          "text": [
            "Model: \"sequential_3\"\n",
            "_________________________________________________________________\n",
            "Layer (type)                 Output Shape              Param #   \n",
            "=================================================================\n",
            "dense_9 (Dense)              (None, 512)               401920    \n",
            "_________________________________________________________________\n",
            "dropout_5 (Dropout)          (None, 512)               0         \n",
            "_________________________________________________________________\n",
            "dense_10 (Dense)             (None, 10)                5130      \n",
            "=================================================================\n",
            "Total params: 407,050\n",
            "Trainable params: 407,050\n",
            "Non-trainable params: 0\n",
            "_________________________________________________________________\n"
          ],
          "name": "stdout"
        }
      ]
    },
    {
      "cell_type": "code",
      "metadata": {
        "colab": {
          "base_uri": "https://localhost:8080/"
        },
        "id": "rIDlAUoHY3Av",
        "outputId": "1da74ac8-ffc1-4896-e91e-a3f6334a96fe"
      },
      "source": [
        "loss, acc = modelo2.evaluate(test_images,test_labels)\n",
        "acc"
      ],
      "execution_count": null,
      "outputs": [
        {
          "output_type": "stream",
          "text": [
            "32/32 [==============================] - 0s 3ms/step - loss: 2.3557 - accuracy: 0.1330\n"
          ],
          "name": "stdout"
        },
        {
          "output_type": "execute_result",
          "data": {
            "text/plain": [
              "0.13300000131130219"
            ]
          },
          "metadata": {
            "tags": []
          },
          "execution_count": 41
        }
      ]
    },
    {
      "cell_type": "code",
      "metadata": {
        "colab": {
          "base_uri": "https://localhost:8080/"
        },
        "id": "J9LZ119UZR6t",
        "outputId": "f694ba41-47f3-4f07-c86c-b7d1b8b8b5d1"
      },
      "source": [
        "modelo2.load_weights(checkpoint_path)\n",
        "loss,acc = modelo2.evaluate(test_images,test_labels)"
      ],
      "execution_count": null,
      "outputs": [
        {
          "output_type": "stream",
          "text": [
            "32/32 [==============================] - 0s 2ms/step - loss: 0.5316 - accuracy: 0.8580\n"
          ],
          "name": "stdout"
        }
      ]
    },
    {
      "cell_type": "code",
      "metadata": {
        "colab": {
          "base_uri": "https://localhost:8080/"
        },
        "id": "gjhYYMhOZaqT",
        "outputId": "bd09a40a-592a-417c-df71-d12981a35788"
      },
      "source": [
        "acc"
      ],
      "execution_count": null,
      "outputs": [
        {
          "output_type": "execute_result",
          "data": {
            "text/plain": [
              "0.8579999804496765"
            ]
          },
          "metadata": {
            "tags": []
          },
          "execution_count": 43
        }
      ]
    },
    {
      "cell_type": "code",
      "metadata": {
        "id": "pvNvmUm4ZbdG"
      },
      "source": [
        "modelo2.save('mi_modelo.h5')"
      ],
      "execution_count": null,
      "outputs": []
    },
    {
      "cell_type": "code",
      "metadata": {
        "colab": {
          "base_uri": "https://localhost:8080/"
        },
        "id": "DHWlzPb4ZrPt",
        "outputId": "e2eaccfd-16bf-4257-f5f9-e3d4fef72d93"
      },
      "source": [
        "modelo3 = keras.models.load_model('mi_modelo.h5')"
      ],
      "execution_count": null,
      "outputs": [
        {
          "output_type": "stream",
          "text": [
            "WARNING:tensorflow:Error in loading the saved optimizer state. As a result, your model is starting with a freshly initialized optimizer.\n"
          ],
          "name": "stdout"
        }
      ]
    },
    {
      "cell_type": "code",
      "metadata": {
        "colab": {
          "base_uri": "https://localhost:8080/"
        },
        "id": "H_WcgQ2_ZyGK",
        "outputId": "75474441-520b-4f92-93f9-e3b797ecb3a4"
      },
      "source": [
        "modelo3.summary()"
      ],
      "execution_count": null,
      "outputs": [
        {
          "output_type": "stream",
          "text": [
            "Model: \"sequential_3\"\n",
            "_________________________________________________________________\n",
            "Layer (type)                 Output Shape              Param #   \n",
            "=================================================================\n",
            "dense_9 (Dense)              (None, 512)               401920    \n",
            "_________________________________________________________________\n",
            "dropout_5 (Dropout)          (None, 512)               0         \n",
            "_________________________________________________________________\n",
            "dense_10 (Dense)             (None, 10)                5130      \n",
            "=================================================================\n",
            "Total params: 407,050\n",
            "Trainable params: 407,050\n",
            "Non-trainable params: 0\n",
            "_________________________________________________________________\n"
          ],
          "name": "stdout"
        }
      ]
    },
    {
      "cell_type": "code",
      "metadata": {
        "colab": {
          "base_uri": "https://localhost:8080/"
        },
        "id": "NsEzxz2GZ2ED",
        "outputId": "a726e910-bcf9-4798-d256-bee4c4d06ad9"
      },
      "source": [
        "loss, acc = modelo3.evaluate(test_images,test_labels)"
      ],
      "execution_count": null,
      "outputs": [
        {
          "output_type": "stream",
          "text": [
            "32/32 [==============================] - 0s 3ms/step - loss: 0.5316 - accuracy: 0.8580\n"
          ],
          "name": "stdout"
        }
      ]
    },
    {
      "cell_type": "code",
      "metadata": {
        "colab": {
          "base_uri": "https://localhost:8080/"
        },
        "id": "e0bpHH4cZ68T",
        "outputId": "77541183-635e-4ac0-ed00-30008d6d1171"
      },
      "source": [
        "acc"
      ],
      "execution_count": null,
      "outputs": [
        {
          "output_type": "execute_result",
          "data": {
            "text/plain": [
              "0.8579999804496765"
            ]
          },
          "metadata": {
            "tags": []
          },
          "execution_count": 16
        }
      ]
    },
    {
      "cell_type": "code",
      "metadata": {
        "colab": {
          "base_uri": "https://localhost:8080/"
        },
        "id": "uuFfDGJUITIy",
        "outputId": "71d912e3-19b7-43fa-d6ed-aed6440c497d"
      },
      "source": [
        "!kaggle datasets download -d keras/resnet50"
      ],
      "execution_count": 2,
      "outputs": [
        {
          "output_type": "stream",
          "text": [
            "Downloading resnet50.zip to /content\n",
            " 92% 160M/174M [00:01<00:00, 92.2MB/s]\n",
            "100% 174M/174M [00:02<00:00, 87.4MB/s]\n"
          ],
          "name": "stdout"
        }
      ]
    },
    {
      "cell_type": "code",
      "metadata": {
        "colab": {
          "base_uri": "https://localhost:8080/"
        },
        "id": "4pRMbNG4IWDH",
        "outputId": "93b7c9d5-a0bb-478e-a46f-bd92f8f7b109"
      },
      "source": [
        "!unzip \\*.zip"
      ],
      "execution_count": 3,
      "outputs": [
        {
          "output_type": "stream",
          "text": [
            "Archive:  resnet50.zip\n",
            "  inflating: imagenet_class_index.json  \n",
            "  inflating: resnet50_weights_tf_dim_ordering_tf_kernels.h5  \n",
            "  inflating: resnet50_weights_tf_dim_ordering_tf_kernels_notop.h5  \n"
          ],
          "name": "stdout"
        }
      ]
    },
    {
      "cell_type": "markdown",
      "metadata": {
        "id": "uok_3YFmvDti"
      },
      "source": [
        "## Otros tipos de redes neuronales"
      ]
    },
    {
      "cell_type": "markdown",
      "metadata": {
        "id": "Qw3kotPvvJ0a"
      },
      "source": [
        "### Para Datos Secuenciales"
      ]
    },
    {
      "cell_type": "markdown",
      "metadata": {
        "id": "_eLeebpxvNlr"
      },
      "source": [
        "<img src = \"https://miro.medium.com/max/3840/1*-k0YznoukMbJ0n9hECRJ9w.png\"> <img>\n"
      ]
    },
    {
      "cell_type": "markdown",
      "metadata": {
        "id": "7R55I1e-vVhh"
      },
      "source": [
        "### RNN: \n",
        "\n",
        "<img src = \"https://miro.medium.com/max/4000/0*c1L9jjcsASagk_Hu.png\"> </img>"
      ]
    },
    {
      "cell_type": "markdown",
      "metadata": {
        "id": "ZiB0LL9Fvkzp"
      },
      "source": [
        "### LSTM \n",
        "\n",
        "<img src = \"https://www.researchgate.net/profile/Xiaofeng-Yuan-4/publication/331421650/figure/fig2/AS:771405641695233@1560928845927/The-structure-of-the-LSTM-unit.png\"> </img>\n"
      ]
    },
    {
      "cell_type": "markdown",
      "metadata": {
        "id": "wK9dktT3v9Eb"
      },
      "source": [
        "### Para Sensores y actuadores\n",
        "\n",
        "<img src = \"https://www.robotshop.com/media/catalog/product/cache/image/400x400/9df78eab33525d08d6e5fb8d27136e95/a/l/alphabot2-mobile-robot-development-platform-arduino.jpg\"> </img>\n",
        "\n"
      ]
    },
    {
      "cell_type": "markdown",
      "metadata": {
        "id": "hmc8fTw_wkva"
      },
      "source": [
        "### Reinforcment learning\n",
        "\n",
        "<img src = \"https://www.researchgate.net/profile/Giovanni-Magistris/publication/319116043/figure/fig1/AS:527426926780416@1502759786890/Robot-learns-new-skills-using-deep-reinforcement-learning.png\"></img>"
      ]
    }
  ]
}